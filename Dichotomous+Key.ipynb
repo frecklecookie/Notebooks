{
 "cells": [
  {
   "cell_type": "markdown",
   "metadata": {},
   "source": [
    "# Dichotomous Key\n",
    "\n",
    "A Dichotomous key is a tool to allow you to identify organisms such as animals, plants, and insects.\n",
    "You will usually have a question with two options in which your answer will help determine which organism you are trying to identify."
   ]
  },
  {
   "cell_type": "code",
   "execution_count": 1,
   "metadata": {
    "collapsed": true
   },
   "outputs": [],
   "source": [
    "# Import modules that contain functions we need\n",
    "import pandas as pd\n",
    "import numpy as np\n",
    "%matplotlib inline\n",
    "import matplotlib.pyplot as plt"
   ]
  },
  {
   "cell_type": "markdown",
   "metadata": {},
   "source": [
    "## Importing the Data"
   ]
  },
  {
   "cell_type": "code",
   "execution_count": 2,
   "metadata": {
    "collapsed": false
   },
   "outputs": [],
   "source": [
    "# Our data is the dichotomous key table and is defined as the word 'data'.\n",
    "# data is set equal to the .csv file that is read by pandas.\n",
    "# The .csv file must be in the same disrectory as the program.\n",
    "\n",
    "data = pd.read_csv(\"Dichotomous key.csv\")\n",
    "\n",
    "# You can also use external links to .xls, .csv, or .txt files and would import useing the same funtion but replaceing the\n",
    "# file name with the webpage. For example:\n",
    "# data = pd.read_csv(\"http://website/file.csv\")"
   ]
  },
  {
   "cell_type": "code",
   "execution_count": 3,
   "metadata": {
    "collapsed": false
   },
   "outputs": [
    {
     "data": {
      "text/html": [
       "<div>\n",
       "<table border=\"1\" class=\"dataframe\">\n",
       "  <thead>\n",
       "    <tr style=\"text-align: right;\">\n",
       "      <th></th>\n",
       "      <th>Organism</th>\n",
       "      <th>fur</th>\n",
       "      <th>marine/terrestrial</th>\n",
       "      <th>kingdom</th>\n",
       "      <th>feathers</th>\n",
       "      <th>scales</th>\n",
       "      <th>fins</th>\n",
       "      <th>carnivore, omni, herb, NA</th>\n",
       "      <th>vertibrate</th>\n",
       "      <th>eggs/ live young/ NA</th>\n",
       "      <th>...</th>\n",
       "      <th>wings</th>\n",
       "      <th>how many legs</th>\n",
       "      <th>auto/heterotroph</th>\n",
       "      <th>poisonous</th>\n",
       "      <th>cold/ warm blooded/NA</th>\n",
       "      <th>Eukaryotic/Prokaryotic</th>\n",
       "      <th>decomposer</th>\n",
       "      <th>hooves</th>\n",
       "      <th>long tail</th>\n",
       "      <th>domesticated</th>\n",
       "    </tr>\n",
       "  </thead>\n",
       "  <tbody>\n",
       "    <tr>\n",
       "      <th>0</th>\n",
       "      <td>cat</td>\n",
       "      <td>yes</td>\n",
       "      <td>terrestrial</td>\n",
       "      <td>animalia</td>\n",
       "      <td>no</td>\n",
       "      <td>no</td>\n",
       "      <td>no</td>\n",
       "      <td>carnivore</td>\n",
       "      <td>yes</td>\n",
       "      <td>live young</td>\n",
       "      <td>...</td>\n",
       "      <td>no</td>\n",
       "      <td>4</td>\n",
       "      <td>heterotroph</td>\n",
       "      <td>no</td>\n",
       "      <td>warm</td>\n",
       "      <td>Eukaryotic</td>\n",
       "      <td>no</td>\n",
       "      <td>no</td>\n",
       "      <td>yes</td>\n",
       "      <td>yes</td>\n",
       "    </tr>\n",
       "    <tr>\n",
       "      <th>1</th>\n",
       "      <td>dog</td>\n",
       "      <td>yes</td>\n",
       "      <td>terrestrial</td>\n",
       "      <td>animalia</td>\n",
       "      <td>no</td>\n",
       "      <td>no</td>\n",
       "      <td>no</td>\n",
       "      <td>omnivore</td>\n",
       "      <td>yes</td>\n",
       "      <td>live young</td>\n",
       "      <td>...</td>\n",
       "      <td>no</td>\n",
       "      <td>4</td>\n",
       "      <td>heterotroph</td>\n",
       "      <td>no</td>\n",
       "      <td>warm</td>\n",
       "      <td>Eukaryotic</td>\n",
       "      <td>no</td>\n",
       "      <td>no</td>\n",
       "      <td>yes</td>\n",
       "      <td>yes</td>\n",
       "    </tr>\n",
       "    <tr>\n",
       "      <th>2</th>\n",
       "      <td>chimpanzee</td>\n",
       "      <td>yes</td>\n",
       "      <td>terrestrial</td>\n",
       "      <td>animalia</td>\n",
       "      <td>no</td>\n",
       "      <td>no</td>\n",
       "      <td>no</td>\n",
       "      <td>omnivore</td>\n",
       "      <td>yes</td>\n",
       "      <td>live young</td>\n",
       "      <td>...</td>\n",
       "      <td>no</td>\n",
       "      <td>2</td>\n",
       "      <td>heterotroph</td>\n",
       "      <td>no</td>\n",
       "      <td>warm</td>\n",
       "      <td>Eukaryotic</td>\n",
       "      <td>no</td>\n",
       "      <td>no</td>\n",
       "      <td>no</td>\n",
       "      <td>no</td>\n",
       "    </tr>\n",
       "  </tbody>\n",
       "</table>\n",
       "<p>3 rows × 22 columns</p>\n",
       "</div>"
      ],
      "text/plain": [
       "     Organism  fur marine/terrestrial   kingdom feathers scales fins  \\\n",
       "0         cat  yes        terrestrial  animalia       no     no   no   \n",
       "1         dog  yes        terrestrial  animalia       no     no   no   \n",
       "2  chimpanzee  yes        terrestrial  animalia       no     no   no   \n",
       "\n",
       "  carnivore, omni, herb, NA vertibrate eggs/ live young/ NA     ...       \\\n",
       "0                 carnivore        yes           live young     ...        \n",
       "1                  omnivore        yes           live young     ...        \n",
       "2                  omnivore        yes           live young     ...        \n",
       "\n",
       "  wings how many legs auto/heterotroph  poisonous cold/ warm blooded/NA  \\\n",
       "0    no             4      heterotroph         no                  warm   \n",
       "1    no             4      heterotroph         no                  warm   \n",
       "2    no             2      heterotroph         no                  warm   \n",
       "\n",
       "  Eukaryotic/Prokaryotic decomposer hooves long tail domesticated  \n",
       "0             Eukaryotic         no     no       yes          yes  \n",
       "1             Eukaryotic         no     no       yes          yes  \n",
       "2             Eukaryotic         no     no        no           no  \n",
       "\n",
       "[3 rows x 22 columns]"
      ]
     },
     "execution_count": 3,
     "metadata": {},
     "output_type": "execute_result"
    }
   ],
   "source": [
    "# This command will only display the first 3 rows\n",
    "data.head(3)\n",
    "#data.head() shows only the first 5 rows by default in Python\n",
    "# To display the entire table simply input data\n",
    "# The number of columns displayed is less than the total number as indicated by the \"...\". \n",
    "# There are too many columns to all be displayed"
   ]
  },
  {
   "cell_type": "code",
   "execution_count": 4,
   "metadata": {
    "collapsed": false
   },
   "outputs": [],
   "source": [
    "# This sets Organism as the index instead of numbers\n",
    "key = data.set_index(\"Organism\")"
   ]
  },
  {
   "cell_type": "markdown",
   "metadata": {},
   "source": [
    "## Animal Choices"
   ]
  },
  {
   "cell_type": "code",
   "execution_count": 5,
   "metadata": {
    "collapsed": false
   },
   "outputs": [
    {
     "data": {
      "text/plain": [
       "Index(['cat', 'dog', 'chimpanzee', 'pig', 'cow', 'bear', 'panda', 'fox',\n",
       "       'rattlesnake', 'rabbit', 'hamster', 'clownfish', 'whale', 'shark',\n",
       "       'opossum', 'deer', 'seal', 'flamingo', 'tucan', 'weasel', 'duck',\n",
       "       'chicken', 'red panda', 'hippopotamus', 'giraffe', 'wolf', 'mouse',\n",
       "       'rhinoceros', 'lemur', 'dolphin', 'moss', 'pine tree', 'palm tree',\n",
       "       'poison ivy', 'oak tree', 'sloth', 'butterfly', 'black widow', 'fly',\n",
       "       'bee', 'wasp', 'mosquito', 'flea', 'scorpion', 'moth', 'dragonfly',\n",
       "       'chipmunk', 'squirrel', 'badger', 'beaver', 'bobcat', 'skunk', 'otter',\n",
       "       'penguin', 'porcupine', 'raccoon', 'eagle', 'owl', 'woodpecker',\n",
       "       'goose', 'vulture', 'turkey', 'tree frog', 'salamander', 'turtle',\n",
       "       'lizard', 'bat', 'worm', 'kangaroo', 'crocodile', 'snail', 'yeast',\n",
       "       'mold', 'white mushroom', 'death cap'],\n",
       "      dtype='object', name='Organism')"
      ]
     },
     "execution_count": 5,
     "metadata": {},
     "output_type": "execute_result"
    }
   ],
   "source": [
    "# Animal options in Dichotomous Key\n",
    "# Displays all row titles (the index) as an array\n",
    "key.index"
   ]
  },
  {
   "cell_type": "markdown",
   "metadata": {},
   "source": [
    "## Conditionals\n",
    "\n",
    "These are the conditions in which ceratin answers are categorized for certain organisms.\n",
    "Each question/condition has a yes/no or preset answer with three options at most such as cold/warm blooded/NA"
   ]
  },
  {
   "cell_type": "code",
   "execution_count": 6,
   "metadata": {
    "collapsed": false
   },
   "outputs": [
    {
     "data": {
      "text/plain": [
       "Index(['fur', 'marine/terrestrial', 'kingdom', 'feathers', 'scales', 'fins',\n",
       "       'carnivore, omni, herb, NA', 'vertibrate', 'eggs/ live young/ NA',\n",
       "       'photosynthesis', 'multicellular/unicellular', 'wings', 'how many legs',\n",
       "       'auto/heterotroph', 'poisonous', 'cold/ warm blooded/NA',\n",
       "       'Eukaryotic/Prokaryotic', 'decomposer', 'hooves', 'long tail',\n",
       "       'domesticated'],\n",
       "      dtype='object')"
      ]
     },
     "execution_count": 6,
     "metadata": {},
     "output_type": "execute_result"
    }
   ],
   "source": [
    "# Conditions/Questions for finding the correct animal\n",
    "# Displays all column titles as an array\n",
    "key.columns"
   ]
  },
  {
   "cell_type": "markdown",
   "metadata": {},
   "source": [
    "## Condition Query\n",
    "\n",
    "Change the conditionals in the code below to change what organism(s) are displayed.\n",
    "\n",
    "**Capitalization matters so be careful. You also must put in only allowed answers in every condition or the code will break!**"
   ]
  },
  {
   "cell_type": "code",
   "execution_count": 8,
   "metadata": {
    "collapsed": false
   },
   "outputs": [
    {
     "data": {
      "text/html": [
       "<div>\n",
       "<table border=\"1\" class=\"dataframe\">\n",
       "  <thead>\n",
       "    <tr style=\"text-align: right;\">\n",
       "      <th></th>\n",
       "      <th>fur</th>\n",
       "      <th>marine/terrestrial</th>\n",
       "      <th>kingdom</th>\n",
       "      <th>feathers</th>\n",
       "      <th>scales</th>\n",
       "      <th>fins</th>\n",
       "      <th>carnivore, omni, herb, NA</th>\n",
       "      <th>vertibrate</th>\n",
       "      <th>eggs/ live young/ NA</th>\n",
       "      <th>photosynthesis</th>\n",
       "      <th>...</th>\n",
       "      <th>wings</th>\n",
       "      <th>how many legs</th>\n",
       "      <th>auto/heterotroph</th>\n",
       "      <th>poisonous</th>\n",
       "      <th>cold/ warm blooded/NA</th>\n",
       "      <th>Eukaryotic/Prokaryotic</th>\n",
       "      <th>decomposer</th>\n",
       "      <th>hooves</th>\n",
       "      <th>long tail</th>\n",
       "      <th>domesticated</th>\n",
       "    </tr>\n",
       "    <tr>\n",
       "      <th>Organism</th>\n",
       "      <th></th>\n",
       "      <th></th>\n",
       "      <th></th>\n",
       "      <th></th>\n",
       "      <th></th>\n",
       "      <th></th>\n",
       "      <th></th>\n",
       "      <th></th>\n",
       "      <th></th>\n",
       "      <th></th>\n",
       "      <th></th>\n",
       "      <th></th>\n",
       "      <th></th>\n",
       "      <th></th>\n",
       "      <th></th>\n",
       "      <th></th>\n",
       "      <th></th>\n",
       "      <th></th>\n",
       "      <th></th>\n",
       "      <th></th>\n",
       "      <th></th>\n",
       "    </tr>\n",
       "  </thead>\n",
       "  <tbody>\n",
       "    <tr>\n",
       "      <th>whale</th>\n",
       "      <td>no</td>\n",
       "      <td>marine</td>\n",
       "      <td>animalia</td>\n",
       "      <td>no</td>\n",
       "      <td>no</td>\n",
       "      <td>yes</td>\n",
       "      <td>omnivore</td>\n",
       "      <td>yes</td>\n",
       "      <td>live young</td>\n",
       "      <td>no</td>\n",
       "      <td>...</td>\n",
       "      <td>no</td>\n",
       "      <td>0</td>\n",
       "      <td>heterotroph</td>\n",
       "      <td>no</td>\n",
       "      <td>warm</td>\n",
       "      <td>Eukaryotic</td>\n",
       "      <td>no</td>\n",
       "      <td>no</td>\n",
       "      <td>yes</td>\n",
       "      <td>no</td>\n",
       "    </tr>\n",
       "  </tbody>\n",
       "</table>\n",
       "<p>1 rows × 21 columns</p>\n",
       "</div>"
      ],
      "text/plain": [
       "         fur marine/terrestrial   kingdom feathers scales fins  \\\n",
       "Organism                                                         \n",
       "whale     no             marine  animalia       no     no  yes   \n",
       "\n",
       "         carnivore, omni, herb, NA vertibrate eggs/ live young/ NA  \\\n",
       "Organism                                                             \n",
       "whale                     omnivore        yes           live young   \n",
       "\n",
       "         photosynthesis     ...      wings how many legs  auto/heterotroph  \\\n",
       "Organism                    ...                                              \n",
       "whale                no     ...         no             0       heterotroph   \n",
       "\n",
       "         poisonous cold/ warm blooded/NA Eukaryotic/Prokaryotic decomposer  \\\n",
       "Organism                                                                     \n",
       "whale           no                  warm             Eukaryotic         no   \n",
       "\n",
       "         hooves long tail domesticated  \n",
       "Organism                                \n",
       "whale        no       yes           no  \n",
       "\n",
       "[1 rows x 21 columns]"
      ]
     },
     "execution_count": 8,
     "metadata": {},
     "output_type": "execute_result"
    }
   ],
   "source": [
    "# This conditional allows us to query a column and if the data within that cell matches,\n",
    "# it will display the corresponding animal(s)\n",
    "key[(key['fur'] == 'no') & (key['marine/terrestrial'] == 'marine') & (key['kingdom'] == 'animalia') & (key['feathers'] == 'no') & (key['scales'] == 'no') & (key['fins'] == 'yes') & (key['carnivore, omni, herb, NA'] == 'omnivore') & (key['vertibrate'] == 'yes') & (key['eggs/ live young/ NA'] == 'live young') & (key['photosynthesis'] == 'no') & (key['multicellular/unicellular'] == 'multicellular') & (key['wings'] == 'no') & (key['how many legs'] == 0) & (key['auto/heterotroph'] == 'heterotroph') & (key['poisonous'] == 'no') & (key['cold/ warm blooded/NA'] == 'warm') & (key['Eukaryotic/Prokaryotic'] == 'Eukaryotic') & (key['decomposer'] == 'no') & (key['hooves'] == 'no') & (key['long tail'] == 'yes') & (key['domesticated'] == 'no')]"
   ]
  },
  {
   "cell_type": "markdown",
   "metadata": {},
   "source": [
    "### Questions/Activities to Consider\n",
    "\n",
    "1.) Does a dolphin have scales or fins?\n",
    "\n",
    "2.) Do Dragonfly's have vertebrates?\n",
    "\n",
    "3.) What conditional statements would show you a cow? What would show you a squirrel?\n",
    "\n",
    "4.) Do porcupines have live young or lay eggs?\n",
    "\n",
    "5.) How many legs does a penguin have?\n",
    "\n",
    "6.) What are some examples of marine animals? Terrestrial animals? \n",
    "\n",
    "7.) Find a few poisonous animals by changing the conditional statements.\n",
    "\n",
    "8.) Are any animals unicellular? \n",
    "\n",
    "9.) What kingdom are animals classified under? What are some examples of plantae? What are some examples of fungi?"
   ]
  }
 ],
 "metadata": {
  "kernelspec": {
   "display_name": "Python 3",
   "language": "python",
   "name": "python3"
  },
  "language_info": {
   "codemirror_mode": {
    "name": "ipython",
    "version": 3
   },
   "file_extension": ".py",
   "mimetype": "text/x-python",
   "name": "python",
   "nbconvert_exporter": "python",
   "pygments_lexer": "ipython3",
   "version": "3.6.0"
  }
 },
 "nbformat": 4,
 "nbformat_minor": 2
}
