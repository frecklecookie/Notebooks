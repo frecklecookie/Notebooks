{
 "cells": [
  {
   "cell_type": "markdown",
   "metadata": {},
   "source": [
    "# Energy Conservation in Physics\n",
    "**We know from the Law of Conservation of Energy that energy cannot be created or destroyed <br>\n",
    "Energy can change forms, however the sum of any change in energy is always zero!** <br>\n",
    "In this activity we will see exactly how initial energy in a system is always equal to the final energy in the same system.\n",
    "\n",
    "\n",
    "To get started,\n",
    "- First, click the disc icon at the top to save the notebook. That makes it easier to start over later if you need to.\n",
    "- Go to the menu bar above and select **Kernel > Restart & Run All**.\n",
    "- You won't hurt anything by experimenting. If you break it, go to **File > Revert to checkpoint** to start over."
   ]
  },
  {
   "cell_type": "code",
   "execution_count": 1,
   "metadata": {
    "collapsed": false
   },
   "outputs": [],
   "source": [
    "# Import modules that contain functions we need\n",
    "import pandas as pd\n",
    "import numpy as np\n",
    "%matplotlib inline\n",
    "import matplotlib.pyplot as plt"
   ]
  },
  {
   "cell_type": "markdown",
   "metadata": {},
   "source": [
    "Try changing the number that is defined as mass and press Shift+Enter. <br>\n",
    "You will see the number change in the print statement."
   ]
  },
  {
   "cell_type": "code",
   "execution_count": 2,
   "metadata": {
    "collapsed": false
   },
   "outputs": [
    {
     "name": "stdout",
     "output_type": "stream",
     "text": [
      "The mass of the ball is 100 kg\n"
     ]
    }
   ],
   "source": [
    "# We declare variables by giving it a name and defining what it is equal to\n",
    "# In python you don't need to specify a specific declaration to reserve memory space\n",
    "# Whatever you define can be an integer, a real number, a string, or etc\n",
    "\n",
    "mass = 100\n",
    "\n",
    "print (\"The mass of the ball is\", mass,\"kg\")"
   ]
  },
  {
   "cell_type": "markdown",
   "metadata": {},
   "source": [
    "We know that the conservation of energy means exactly what it says; energy is conserved, which means it is the same before and after an action.\n",
    "\n",
    "**Kinetic Energy (KE) = $\\frac{1}{2}mv^2$**\n",
    "\n",
    "**Potential Energy (Due to Gravity) (PE) = $mgy$**\n",
    "\n",
    "**Energy Conserved (if only gravity does work): $\\frac{1}{2}mv_1^2 + mgy_1 = \\frac{1}{2}mv_2^2 + mgy_2$**\n",
    "\n",
    "**Energy: $E=\\frac{1}{2}mv^2 + mgy$**"
   ]
  },
  {
   "cell_type": "markdown",
   "metadata": {},
   "source": [
    "# Example 1\n",
    "### Throwing a Ball in the Air\n",
    "\n",
    "Let's say you have a ball with a certain mass (kg) and you throw it straight up with a certain velocity (m/s). What is the the energy at the starting point in your hand and the point where the ball reaches a maximum height (m) in the air? Ignore air resistance for now.\n",
    "\n",
    "Enter the mass (m) and initial velocity (v1) of the ball below. <br>\n",
    "Then press Shift+Enter. <br>\n",
    "If something seems off it is a good idea to go to the menu bar above and select **Kernel > Restart & Run All**. <br>\n",
    "Python, and any code for that matter, reads top to bottom, and so the cells in this notebook must be run in order to properly display the code of any any cell below."
   ]
  },
  {
   "cell_type": "code",
   "execution_count": 3,
   "metadata": {
    "collapsed": false
   },
   "outputs": [
    {
     "name": "stdout",
     "output_type": "stream",
     "text": [
      "Total initial energy is 10.0 J\n",
      "Maximum displacement of the ball is 0.20 m\n"
     ]
    }
   ],
   "source": [
    "#It is important to note that when a real number is defined and used in a mathematical equation,\n",
    "#the other numbers must also be real numbers. This can be done by simply adding a decimal.\n",
    "\n",
    "# Gravity is constant\n",
    "g = 9.8\n",
    "# Define the mass of the ball\n",
    "m = 5.0\n",
    "# Velocity of ball thrown\n",
    "v1 = 2.0\n",
    "# Velocity when ball reaches max height is instantaineously zero\n",
    "v2 = 0.0\n",
    "# Position also starts at zero in your hand\n",
    "y1 = 0.0\n",
    "# Solve for max height of ball\n",
    "E1 = (0.5)*m*pow(v1,2.0) + m*g*y1\n",
    "y2 = E1/(m*g)\n",
    "\n",
    "print (\"Total initial energy is\", E1, \"J\")\n",
    "#  The %.2f says to only print to two digits past the decimal\n",
    "print (\"Maximum displacement of the ball is %.2f\" %y2, \"m\")\n"
   ]
  },
  {
   "cell_type": "code",
   "execution_count": 4,
   "metadata": {
    "collapsed": false
   },
   "outputs": [
    {
     "data": {
      "image/png": "[encoded data removed]",
      "text/plain": [
       "<matplotlib.figure.Figure at 0x9993d68>"
      ]
     },
     "metadata": {},
     "output_type": "display_data"
    }
   ],
   "source": [
    "KE1 = (0.5)*m*pow(v1,2.0)\n",
    "PE1 = m*g*y1\n",
    "KE2 = (0.5)*m*pow(v2,2.0)\n",
    "PE2 = m*g*y2\n",
    "\n",
    "tot1 = KE1+PE1\n",
    "tot2 = KE2+PE2\n",
    "\n",
    "energies = ('KE +', 'PE', '= Energy')\n",
    "pos = np.arange(len(energies))\n",
    "initial = [KE1, PE1, tot1]\n",
    "final = [KE2, PE2, tot2]\n",
    "\n",
    "#Subplot generates multiple plots that can be put next to each other for direct comparison\n",
    "#There is 1 row, 2 columns, and this graph will be in the first column\n",
    "plt.subplot(1,2,1)\n",
    "plt.bar(pos, initial, align='center', color = ['#77b5e5', '#addd66', 'black'])\n",
    "plt.xticks(pos, energies)\n",
    "plt.title('Initial Energy')\n",
    "plt.axhline(0, color='black')\n",
    "plt.axvline(1.5, color='black')\n",
    "axes = plt.gca()\n",
    "axes.set_ylim([-KE1,KE1])\n",
    "\n",
    "#This graph will be in the second column\n",
    "plt.subplot(1,2,2)\n",
    "plt.bar(pos, final, align='center', color = ['#77b5e5', '#addd66', 'black'])\n",
    "plt.xticks(pos, energies)\n",
    "plt.yticks([])\n",
    "plt.title('Final Energy')\n",
    "plt.axhline(0, color='black')\n",
    "plt.axvline(1.5, color='black')\n",
    "axes = plt.gca()\n",
    "axes.set_ylim([-KE1,KE1])\n",
    "\n",
    "plt.show()"
   ]
  },
  {
   "cell_type": "markdown",
   "metadata": {},
   "source": [
    "This is a perfect example of kinetic energy being completly converted to potential energy. Calculate the initial and final energies given these values. Do you come up with the same thing when calculating directly from the equation? $E_1$ should equal $E_2$ due to the law of conservation of energy."
   ]
  },
  {
   "cell_type": "markdown",
   "metadata": {},
   "source": [
    "# Example 2\n",
    "### Throwing a Ball in the Air with Air Resistance\n",
    "\n",
    "This is the same as example 1 but now we introduce air resistance. Air resistance would be an example of a source of work other than the work of gravity.\n",
    "Since air resistance is directly opposing the motion of the ball, the work done is negative.\n",
    "\n",
    "The conservation of energy equation then becomes:\n",
    "**$\\frac{1}{2}mv_1^2 + mgy_1 + W = \\frac{1}{2}mv_2^2 + mgy_2$**\n",
    "\n",
    "**Work = Force times displacement = $Fs$**\n",
    "\n",
    "Change the value of the force of air resistance. Then press Shift+Enter <br>\n",
    "If something seems off it is a good idea to go to the menu bar above and select **Kernel > Restart & Run All**"
   ]
  },
  {
   "cell_type": "code",
   "execution_count": 5,
   "metadata": {
    "collapsed": false
   },
   "outputs": [
    {
     "name": "stdout",
     "output_type": "stream",
     "text": [
      "Work is equal to -3.06 J\n"
     ]
    }
   ],
   "source": [
    "# Force of air resistance in Newtons, opposing the ball's motion, thus it is negative\n",
    "F = -15.0\n",
    "\n",
    "# Calculate to find Work other\n",
    "W = F*(y2-y1)\n",
    "\n",
    "print (\"Work is equal to %.2f\" %W, \"J\")"
   ]
  },
  {
   "cell_type": "code",
   "execution_count": 6,
   "metadata": {
    "collapsed": false
   },
   "outputs": [
    {
     "data": {
      "image/png": "[encoded data removed]",
      "text/plain": [
       "<matplotlib.figure.Figure at 0x9c3f1d0>"
      ]
     },
     "metadata": {},
     "output_type": "display_data"
    }
   ],
   "source": [
    "PE2 = KE1+W\n",
    "\n",
    "tot1 = KE1+PE1+W\n",
    "tot2 = KE2+PE2\n",
    "\n",
    "ienergies = ('KE +', 'PE +', 'W', '= Energy')\n",
    "ipos = np.arange(len(ienergies))\n",
    "initial = [KE1, PE1, W, tot1]\n",
    "fenergies = ('KE +', 'PE', '= Energy')\n",
    "fpos = np.arange(len(fenergies))\n",
    "final = [KE2, PE2, tot2]\n",
    "\n",
    "plt.subplot(1,2,1)\n",
    "plt.bar(ipos, initial, color = ['#77b5e5','#addd66','#efe770', 'black'])\n",
    "plt.axhline(0, color='black')\n",
    "plt.axvline(2.5, color='black')\n",
    "plt.xticks(ipos, ienergies)\n",
    "plt.title('Initial Energy')\n",
    "axes = plt.gca()\n",
    "axes.set_ylim([-KE1,KE1])\n",
    "\n",
    "plt.subplot(1,2,2)\n",
    "plt.bar(fpos, final, width = 0.6, color = ['#77b5e5', '#addd66', 'black'])\n",
    "plt.axhline(0, color='black')\n",
    "plt.axvline(1.5, color='black')\n",
    "plt.xticks(fpos, fenergies)\n",
    "plt.title('Final Energy')\n",
    "plt.yticks([])\n",
    "axes = plt.gca()\n",
    "axes.set_ylim([-KE1,KE1])\n",
    "\n",
    "plt.show()"
   ]
  },
  {
   "cell_type": "markdown",
   "metadata": {
    "collapsed": true
   },
   "source": [
    "Introducing a source of work changes the final potential energy from example 1. Is the initial energy and the final energy equal?"
   ]
  },
  {
   "cell_type": "markdown",
   "metadata": {},
   "source": [
    "# Example 3\n",
    "### Falling Elevator\n",
    "Let's say there is an elevator with a particular mass (m) whose cables broke and is now falling some velocity (m/s) towards a cushioning spring at the bottom. There are also safety clamps on the sides of the falling elevator exerting an opposing frictional force (N). The elevator compresses the spring by a certain displacement (m) and brings the elevator to a stop.\n",
    "\n",
    "\n",
    "When there is aforce that stretchs or compresses there is then a elastic potential energy that must be included.\n",
    "\n",
    "**Elastic Potential Energy = $\\frac{1}{2}ky^2$**\n",
    "\n",
    "**Total Potential Energy = $mgy + \\frac{1}{2}ky^2$**\n",
    "\n",
    "The conservation of energy equation then becomes:\n",
    "**$\\frac{1}{2}mv_1^2 + mgy_1 + \\frac{1}{2}ky_1^2 + W = \\frac{1}{2}mv_2^2 + mgy_2 + \\frac{1}{2}ky_2^2$**\n",
    "\n",
    "Try changing some of the values and press Shift+Enter <br>\n",
    "If something seems off it is a good idea to go to the menu bar above and select **Kernel > Restart & Run All**"
   ]
  },
  {
   "cell_type": "code",
   "execution_count": 7,
   "metadata": {
    "collapsed": false
   },
   "outputs": [
    {
     "name": "stdout",
     "output_type": "stream",
     "text": [
      "The initial kinetic energy is 16000.0 and the initial potential energy is 0.0\n",
      "The work due to friction is -34000.0 since it is opposing the direction of motion\n",
      "The final potential energy is -39200.0 since the displacement is below the starting point\n",
      "The spring constant is 10600.0\n",
      "The initial elastic potential energy is 0.0\n",
      "The final elastic potential energy is 21200.0\n"
     ]
    }
   ],
   "source": [
    "# Gravity is constant\n",
    "g = 9.8\n",
    "# Mass of elevator\n",
    "m = 2000.0\n",
    "# Velocity of falling elevator\n",
    "v1 = 4.0\n",
    "# Velocity after spring compression\n",
    "v2 = 0.0\n",
    "# Starting position, spring contact\n",
    "y1 = 0.0\n",
    "# Second position, displacement of compressed spring\n",
    "y2 = -2.0\n",
    "# Frictional force that contributes to work other\n",
    "F = 17000.0\n",
    "\n",
    "W = F*(y2-y1)\n",
    "KE1 = (0.5)*m*pow(v1,2.0)\n",
    "KE2 = (0.5)*m*pow(v2,2.0)\n",
    "PE1 = (m*g*y1)\n",
    "PE2 = (m*g*y2)\n",
    "print (\"The initial kinetic energy is\", KE1, \"and the initial potential energy is\", PE1)\n",
    "print (\"The work due to friction is\", W, \"since it is opposing the direction of motion\")\n",
    "print (\"The final potential energy is\", PE2, \"since the displacement is below the starting point\")\n",
    "\n",
    "# Spring constant k found from previous information\n",
    "k = (2*(KE1+W-PE2))/(pow(y2,2.0))\n",
    "print (\"The spring constant is\", k)\n",
    "\n",
    "EPE1 = ((0.5)*k*pow(y1,2.0))\n",
    "EPE2 = ((0.5)*k*pow(y2,2.0))\n",
    "\n",
    "print (\"The initial elastic potential energy is\", EPE1)\n",
    "print (\"The final elastic potential energy is\", EPE2)\n",
    "\n",
    "tot1 = KE1+PE1+EPE1+W\n",
    "tot2 = KE2+PE2+EPE2"
   ]
  },
  {
   "cell_type": "code",
   "execution_count": 8,
   "metadata": {
    "collapsed": false
   },
   "outputs": [
    {
     "data": {
      "image/png": "[encoded data removed]",
      "text/plain": [
       "<matplotlib.figure.Figure at 0x9d34320>"
      ]
     },
     "metadata": {},
     "output_type": "display_data"
    }
   ],
   "source": [
    "ienergies = ('KE +', 'PE +', 'EPE +', 'W', '= Energy')\n",
    "ipos = np.arange(len(ienergies))\n",
    "initial = [KE1, PE1, EPE1, W, tot1]\n",
    "fenergies = ('KE +', 'PE +', 'EPE', '= Energy')\n",
    "fpos = np.arange(len(fenergies))\n",
    "final = [KE2, PE2, EPE2, tot2]\n",
    "\n",
    "plt.subplot(1,2,1)\n",
    "plt.bar(ipos, initial, color = ['#77b5e5', '#addd66', '#af4141', '#efe770', 'black'])\n",
    "plt.axhline(0, color='black')\n",
    "plt.axvline(3.5, color='black')\n",
    "plt.xticks(ipos, ienergies)\n",
    "plt.title('Initial Energy')\n",
    "axes = plt.gca()\n",
    "axes.set_ylim([PE2,-PE2])\n",
    "\n",
    "plt.subplot(1,2,2)\n",
    "plt.bar(fpos, final, width = 0.6, color = ['#77b5e5', '#addd66', '#af4141', 'black'])\n",
    "plt.axhline(0, color='black')\n",
    "plt.axvline(2.5, color='black')\n",
    "plt.xticks(fpos, fenergies)\n",
    "plt.title('Final Energy')\n",
    "plt.yticks([])\n",
    "axes = plt.gca()\n",
    "axes.set_ylim([PE2,-PE2])\n",
    "\n",
    "plt.show()"
   ]
  },
  {
   "cell_type": "markdown",
   "metadata": {},
   "source": [
    "Does this make sense? Work it out for yourself and see if you obtain the same results! <br>\n",
    "What will happen after the spring is compressed by the elevator? Will it stay there or bounce back up?"
   ]
  },
  {
   "cell_type": "markdown",
   "metadata": {},
   "source": [
    "**Can you think of any more examples of energy conservation?**\n",
    "\n",
    "\n",
    "\n",
    "## Saving Your Work\n",
    "To save for later use or analysis you have a few options:\n",
    "- File > Download as > ipynb (to continue your analysis later)\n",
    "- File > Download as > pdf (static copy including code and graphs)\n",
    "- Right-click on a graph and select Save Image As ... (to share a pic)\n",
    "\n",
    "\n",
    "## Credits\n",
    "This notebook was designed by Megan Cox.\n",
    "\n",
    "H.D. Young and R.A. Freedman, *University Physics with Modern Physics*, 13th Ed. (Addison-Wesley, CA, 2012), pp. 207-221.\n",
    "\n",
    "T. Henderson, *Physics Classroom*, [WWW Site](http://www.physicsclassroom.com/reviews/Work-and-Energy/Work-and-Energy-Review-Answers-3#35)."
   ]
  },
  {
   "cell_type": "code",
   "execution_count": null,
   "metadata": {
    "collapsed": true
   },
   "outputs": [],
   "source": []
  }
 ],
 "metadata": {
  "kernelspec": {
   "display_name": "Python 3",
   "language": "python",
   "name": "python3"
  },
  "language_info": {
   "codemirror_mode": {
    "name": "ipython",
    "version": 3
   },
   "file_extension": ".py",
   "mimetype": "text/x-python",
   "name": "python",
   "nbconvert_exporter": "python",
   "pygments_lexer": "ipython3",
   "version": "3.6.0"
  }
 },
 "nbformat": 4,
 "nbformat_minor": 2
}
