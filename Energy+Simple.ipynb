{
 "cells": [
  {
   "cell_type": "markdown",
   "metadata": {},
   "source": [
    "# Energy Conservation in Physics\n",
    "**We know from the Law of Conservation of Energy that energy cannot be created or destroyed <br>\n",
    "Energy can change forms, however the sum of any change in energy is always zero!** <br>\n",
    "\n",
    "\n",
    "To get started,\n",
    "- First, click the disc icon at the top to save the notebook. That makes it easier to start over later if you need to.\n",
    "- Go to the menu bar above and select **Kernel > Restart & Run All**.\n",
    "- You won't hurt anything by experimenting. If you break it, go to **File > Revert to checkpoint** to start over."
   ]
  },
  {
   "cell_type": "code",
   "execution_count": 1,
   "metadata": {
    "collapsed": true
   },
   "outputs": [],
   "source": [
    "# Import modules that contain functions we need\n",
    "import pandas as pd\n",
    "import numpy as np\n",
    "%matplotlib inline\n",
    "import matplotlib.pyplot as plt"
   ]
  },
  {
   "cell_type": "markdown",
   "metadata": {},
   "source": [
    "We know that the conservation of energy means exactly what it says; energy is conserved, which means it is the same before and after an action.\n",
    "\n",
    "**Kinetic Energy (KE) = $\\frac{1}{2}mv^2$**\n",
    "\n",
    "**Potential Energy (Due to Gravity) (PE) = $mgy$**\n",
    "\n",
    "**Energy Conserved (if only gravity does work): $\\frac{1}{2}mv_1^2 + mgy_1 = \\frac{1}{2}mv_2^2 + mgy_2$**\n",
    "\n",
    "**Energy: $E=\\frac{1}{2}mv^2 + mgy$**"
   ]
  },
  {
   "cell_type": "code",
   "execution_count": 2,
   "metadata": {},
   "outputs": [
    {
     "name": "stdout",
     "output_type": "stream",
     "text": [
      "The mass of the ball is 100 kg\n"
     ]
    }
   ],
   "source": [
    "# We declare variables by giving it a name and defining what it is equal to\n",
    "# In python you don't need to specify a specific declaration to reserve memory space\n",
    "# Whatever you define can be an integer, a real number, a string, or etc\n",
    "\n",
    "mass = 100\n",
    "\n",
    "print (\"The mass of the ball is\", mass,\"kg\")"
   ]
  },
  {
   "cell_type": "markdown",
   "metadata": {},
   "source": [
    "**In the cell below, input the mass (kg) of an object, the height (m) of the object, and the speed (m/s) of the object ** <br>\n",
    "As you change the numbers for these values, observe how the graph and energy changes."
   ]
  },
  {
   "cell_type": "code",
   "execution_count": 3,
   "metadata": {
    "collapsed": true
   },
   "outputs": [],
   "source": [
    "mass = \n",
    "\n",
    "height = \n",
    "\n",
    "speed = "
   ]
  },
  {
   "cell_type": "code",
   "execution_count": 4,
   "metadata": {},
   "outputs": [
    {
     "name": "stdout",
     "output_type": "stream",
     "text": [
      "Kinetic Energy (KE) = 100.0\n",
      "Gravitational Potential Energy (GPE) = 58.800000000000004\n",
      "Energy = 158.8\n"
     ]
    }
   ],
   "source": [
    "gravity = 9.8\n",
    "\n",
    "# Kinetic Energy\n",
    "KE = (1/2)*mass*pow(speed,2)\n",
    "print (\"Kinetic Energy (KE) =\", KE)\n",
    "# Potential Energy due to Gravity\n",
    "GPE = mass*gravity*height\n",
    "print (\"Gravitational Potential Energy (GPE) =\", GPE)\n",
    "\n",
    "# Energy\n",
    "E = KE+GPE\n",
    "print (\"Energy =\", E)"
   ]
  },
  {
   "cell_type": "code",
   "execution_count": 5,
   "metadata": {},
   "outputs": [
    {
     "data": {
      "text/plain": [
       "(-158.8, 158.8)"
      ]
     },
     "execution_count": 5,
     "metadata": {},
     "output_type": "execute_result"
    },
    {
     "data": {
      "image/png": "[encoded data removed]",
      "text/plain": [
       "<matplotlib.figure.Figure at 0x9958f98>"
      ]
     },
     "metadata": {},
     "output_type": "display_data"
    }
   ],
   "source": [
    "energies = ('KE                 +', 'GPE', '=       Energy')\n",
    "pos = np.arange(len(energies))\n",
    "tot = [KE, GPE, E]\n",
    "\n",
    "plt.bar(pos, tot, align='center', color = ['#77b5e5', '#addd66', '#b74046'])\n",
    "plt.xticks(pos, energies)\n",
    "plt.title('Energy')\n",
    "plt.axhline(0, color='black')\n",
    "plt.axvline(1.5, color='black')\n",
    "axes = plt.gca()\n",
    "axes.set_ylim([-E,E])"
   ]
  },
  {
   "cell_type": "code",
   "execution_count": null,
   "metadata": {
    "collapsed": true
   },
   "outputs": [],
   "source": []
  }
 ],
 "metadata": {
  "kernelspec": {
   "display_name": "Python 3",
   "language": "python",
   "name": "python3"
  },
  "language_info": {
   "codemirror_mode": {
    "name": "ipython",
    "version": 3
   },
   "file_extension": ".py",
   "mimetype": "text/x-python",
   "name": "python",
   "nbconvert_exporter": "python",
   "pygments_lexer": "ipython3",
   "version": "3.7.3"
  }
 },
 "nbformat": 4,
 "nbformat_minor": 2
}
